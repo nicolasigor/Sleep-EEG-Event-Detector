{
 "cells": [
  {
   "cell_type": "code",
   "execution_count": 17,
   "id": "79aa62bc",
   "metadata": {},
   "outputs": [
    {
     "data": {
      "text/html": [
       "<style>.container { width:100% !important; }</style>"
      ],
      "text/plain": [
       "<IPython.core.display.HTML object>"
      ]
     },
     "metadata": {},
     "output_type": "display_data"
    }
   ],
   "source": [
    "import os\n",
    "import sys\n",
    "from pprint import pprint\n",
    "\n",
    "import numpy as np\n",
    "import pandas as pd\n",
    "import matplotlib.pyplot as plt\n",
    "\n",
    "project_root = \"..\"\n",
    "sys.path.append(project_root)\n",
    "from sleeprnn.common import viz\n",
    "\n",
    "DATASETS_PATH = os.path.join(project_root, 'resources', 'datasets', 'nsrr')\n",
    "\n",
    "viz.notebook_full_width()"
   ]
  },
  {
   "cell_type": "markdown",
   "id": "eeaf11d5",
   "metadata": {},
   "source": [
    "# Check metadata column names"
   ]
  },
  {
   "cell_type": "code",
   "execution_count": 99,
   "id": "a1da116f",
   "metadata": {},
   "outputs": [
    {
     "name": "stdout",
     "output_type": "stream",
     "text": [
      "Check ccshs\n",
      "['ccshs-data-dictionary-0.6.0-variables.csv']\n",
      "          folder         id          display_name     type  \\\n",
      "18  Demographics        age  Age at time of visit  numeric   \n",
      "19  Demographics  ethnicity             Ethnicity  choices   \n",
      "20  Demographics       male           Male gender  choices   \n",
      "21  Demographics      race3                  Race  choices   \n",
      "\n",
      "                                          description  \n",
      "18                                                NaN  \n",
      "19                                                NaN  \n",
      "20                                                NaN  \n",
      "21  Race was collapsed into these three categories...  \n",
      "Datasets:\n",
      "['ccshs-trec-dataset-0.6.0.csv']\n"
     ]
    }
   ],
   "source": [
    "dataset_name = 'ccshs'\n",
    "\n",
    "print(\"Check %s\" % dataset_name)\n",
    "\n",
    "metadata_dir = os.path.abspath(os.path.join(DATASETS_PATH, dataset_name, 'datasets'))\n",
    "all_files = os.listdir(metadata_dir)\n",
    "all_files.sort()\n",
    "\n",
    "# variables\n",
    "var_file = [f for f in all_files if ('variables' in f) and ('dictionary' in f) and ('.csv' in f)]\n",
    "pprint(var_file)\n",
    "\n",
    "var_file = os.path.join(metadata_dir, var_file[0])\n",
    "\n",
    "var_df = pd.read_csv(var_file)\n",
    "\n",
    "# var_df = var_df[[('Demographics' in s) for s in var_df['folder']]]\n",
    "var_df = var_df[[('Demographics' in s) for s in var_df['folder']]]\n",
    "print(var_df[[\n",
    "    'folder', \n",
    "    'id', \n",
    "    'display_name', \n",
    "    'type',\n",
    "    'description',\n",
    "]])\n",
    "# print(var_df.loc[202])\n",
    "\n",
    "# Dataset file\n",
    "dataset_file = [f for f in all_files if ('dataset' in f) and ('.csv' in f)]\n",
    "print(\"Datasets:\")\n",
    "pprint(dataset_file)"
   ]
  },
  {
   "cell_type": "code",
   "execution_count": 103,
   "id": "b6910bbc",
   "metadata": {},
   "outputs": [
    {
     "data": {
      "text/plain": [
       "0      0\n",
       "1      1\n",
       "2      1\n",
       "3      1\n",
       "4      0\n",
       "      ..\n",
       "512    1\n",
       "513    1\n",
       "514    1\n",
       "515    1\n",
       "516    1\n",
       "Name: male, Length: 517, dtype: int64"
      ]
     },
     "execution_count": 103,
     "metadata": {},
     "output_type": "execute_result"
    }
   ],
   "source": [
    "# check columns\n",
    "id_name = 'male'\n",
    "categorical = True\n",
    "\n",
    "meta_df = pd.read_csv(os.path.join(metadata_dir, 'ccshs-trec-dataset-0.6.0.csv'))\n",
    "# [n for n in meta_df.columns if 'V8' in n]\n",
    "meta_df[id_name]\n",
    "# meta_df"
   ]
  },
  {
   "cell_type": "code",
   "execution_count": 104,
   "id": "1cb1fbc7",
   "metadata": {},
   "outputs": [
    {
     "name": "stdout",
     "output_type": "stream",
     "text": [
      "Total NaNs: 0 out of 517\n",
      "Value 0 with non-nan proportion 0.4952\n",
      "Value 1 with non-nan proportion 0.5048\n"
     ]
    },
    {
     "data": {
      "image/png": "[encoded data removed]",
      "text/plain": [
       "<Figure size 432x288 with 1 Axes>"
      ]
     },
     "metadata": {
      "needs_background": "light"
     },
     "output_type": "display_data"
    }
   ],
   "source": [
    "col_vals = meta_df[id_name].values\n",
    "loc_nan = np.isnan(col_vals)\n",
    "print(\"Total NaNs: %d out of %d\" % (loc_nan.sum(), loc_nan.size))\n",
    "\n",
    "if categorical:\n",
    "    col_vals = col_vals[~loc_nan]\n",
    "    unique_vals = np.unique(col_vals)\n",
    "    for v in unique_vals:\n",
    "        print(\"Value %s with non-nan proportion %1.4f\" % (v, (col_vals==v).mean()))\n",
    "\n",
    "plt.hist(col_vals)\n",
    "plt.show()"
   ]
  },
  {
   "cell_type": "markdown",
   "id": "c1320ec2",
   "metadata": {},
   "source": [
    "# Check metadata"
   ]
  },
  {
   "cell_type": "code",
   "execution_count": 115,
   "id": "7a27d905",
   "metadata": {},
   "outputs": [
    {
     "data": {
      "text/html": [
       "<div>\n",
       "<style scoped>\n",
       "    .dataframe tbody tr th:only-of-type {\n",
       "        vertical-align: middle;\n",
       "    }\n",
       "\n",
       "    .dataframe tbody tr th {\n",
       "        vertical-align: top;\n",
       "    }\n",
       "\n",
       "    .dataframe thead th {\n",
       "        text-align: right;\n",
       "    }\n",
       "</style>\n",
       "<table border=\"1\" class=\"dataframe\">\n",
       "  <thead>\n",
       "    <tr style=\"text-align: right;\">\n",
       "      <th></th>\n",
       "      <th>nsrrid</th>\n",
       "      <th>age</th>\n",
       "      <th>male</th>\n",
       "    </tr>\n",
       "  </thead>\n",
       "  <tbody>\n",
       "    <tr>\n",
       "      <th>0</th>\n",
       "      <td>1800001</td>\n",
       "      <td>17.21</td>\n",
       "      <td>0</td>\n",
       "    </tr>\n",
       "    <tr>\n",
       "      <th>1</th>\n",
       "      <td>1800005</td>\n",
       "      <td>17.28</td>\n",
       "      <td>1</td>\n",
       "    </tr>\n",
       "    <tr>\n",
       "      <th>2</th>\n",
       "      <td>1800007</td>\n",
       "      <td>17.54</td>\n",
       "      <td>1</td>\n",
       "    </tr>\n",
       "    <tr>\n",
       "      <th>3</th>\n",
       "      <td>1800013</td>\n",
       "      <td>17.76</td>\n",
       "      <td>1</td>\n",
       "    </tr>\n",
       "    <tr>\n",
       "      <th>4</th>\n",
       "      <td>1800014</td>\n",
       "      <td>17.13</td>\n",
       "      <td>0</td>\n",
       "    </tr>\n",
       "  </tbody>\n",
       "</table>\n",
       "</div>"
      ],
      "text/plain": [
       "    nsrrid    age  male\n",
       "0  1800001  17.21     0\n",
       "1  1800005  17.28     1\n",
       "2  1800007  17.54     1\n",
       "3  1800013  17.76     1\n",
       "4  1800014  17.13     0"
      ]
     },
     "execution_count": 115,
     "metadata": {},
     "output_type": "execute_result"
    }
   ],
   "source": [
    "folder = 'ccshs'\n",
    "fname = 'ccshs-trec-dataset-0.6.0.csv'\n",
    "age_name = 'age'\n",
    "sex_name = 'male'\n",
    "# sex_map = {1: 'M', 2: 'F'}\n",
    "\n",
    "metadata_path = os.path.abspath(os.path.join(DATASETS_PATH, folder, 'datasets', fname))\n",
    "metadata_df = pd.read_csv(metadata_path)\n",
    "metadata_df = metadata_df[['nsrrid', age_name, sex_name]]\n",
    "metadata_df.head()"
   ]
  }
 ],
 "metadata": {
  "kernelspec": {
   "display_name": "Python 3",
   "language": "python",
   "name": "python3"
  },
  "language_info": {
   "codemirror_mode": {
    "name": "ipython",
    "version": 3
   },
   "file_extension": ".py",
   "mimetype": "text/x-python",
   "name": "python",
   "nbconvert_exporter": "python",
   "pygments_lexer": "ipython3",
   "version": "3.7.10"
  }
 },
 "nbformat": 4,
 "nbformat_minor": 5
}
